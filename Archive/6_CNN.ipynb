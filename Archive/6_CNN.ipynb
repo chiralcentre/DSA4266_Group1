{
  "cells": [
    {
      "cell_type": "markdown",
      "metadata": {
        "id": "OiOj8nWjvsgX"
      },
      "source": [
        "### 0. Library and Datasets"
      ]
    },
    {
      "cell_type": "code",
      "execution_count": null,
      "metadata": {
        "id": "JgZ72SKcvk0i"
      },
      "outputs": [],
      "source": [
        "! pip install scikit-learn\n",
        "! pip install tensorflow\n",
        "! pip install keras"
      ]
    },
    {
      "cell_type": "code",
      "execution_count": 54,
      "metadata": {
        "id": "N4lQlDHMv7N2"
      },
      "outputs": [],
      "source": [
        "import numpy as np\n",
        "import pandas as pd\n",
        "import matplotlib.pyplot as plt\n",
        "import seaborn as sns\n",
        "from sklearn.model_selection import train_test_split\n",
        "from sklearn.metrics import (accuracy_score, precision_score,\n",
        "                             recall_score, f1_score,\n",
        "                             roc_auc_score, confusion_matrix)\n",
        "from tensorflow.keras.models import Sequential\n",
        "from tensorflow.keras.preprocessing.text import Tokenizer\n",
        "from tensorflow.keras.preprocessing.sequence import pad_sequences\n",
        "from tensorflow.keras.layers import (Embedding, Conv1D,\n",
        "                                     GlobalMaxPooling1D, Dense)"
      ]
    },
    {
      "cell_type": "code",
      "execution_count": 23,
      "metadata": {
        "id": "QsQdhMb5v-cd"
      },
      "outputs": [],
      "source": [
        "df_original = pd.read_csv(\"/content/combined_data.csv\", lineterminator='\\n')"
      ]
    },
    {
      "cell_type": "markdown",
      "metadata": {
        "id": "UrbG4Q-tv5mR"
      },
      "source": [
        "### 1. Cleaning"
      ]
    },
    {
      "cell_type": "code",
      "execution_count": 55,
      "metadata": {
        "id": "X1HVECICwhmM"
      },
      "outputs": [],
      "source": [
        "df = pd.DataFrame(df_original)\n",
        "df['text'] = df['sender'] + ' ' + df['receiver'] + ' ' + df['date'] + ' ' + df['subject'] + ' ' + df['body']\n",
        "df = df[['text', 'label']]"
      ]
    },
    {
      "cell_type": "code",
      "execution_count": 56,
      "metadata": {
        "id": "1HgcSl_7zvV4"
      },
      "outputs": [],
      "source": [
        "# Prepare the text and labels\n",
        "X = df['text'].values\n",
        "y = df['label'].values\n",
        "\n",
        "# Tokenization\n",
        "maximum_features = 5000  # Maximum number of words to consider as features\n",
        "maximum_length = 100  # Maximum length of input sequences\n",
        "\n",
        "tokenizer = Tokenizer(num_words=maximum_features)\n",
        "tokenizer.fit_on_texts(X)  # Fit the tokenizer on the text data\n",
        "\n",
        "# Convert texts to sequences of integers\n",
        "X_sequences = tokenizer.texts_to_sequences(X)\n",
        "\n",
        "# Padding the sequences to ensure uniform length\n",
        "x_train = pad_sequences(X_sequences, maxlen=maximum_length)"
      ]
    },
    {
      "cell_type": "markdown",
      "metadata": {
        "id": "xjit3_Q7wj0r"
      },
      "source": [
        "### 2. EDA"
      ]
    },
    {
      "cell_type": "code",
      "execution_count": 57,
      "metadata": {
        "colab": {
          "base_uri": "https://localhost:8080/"
        },
        "id": "2YjQI15FwlzU",
        "outputId": "62281dc8-e898-4b5d-acc6-37b9dc90bcb3"
      },
      "outputs": [
        {
          "name": "stdout",
          "output_type": "stream",
          "text": [
            "<class 'pandas.core.frame.DataFrame'>\n",
            "RangeIndex: 171961 entries, 0 to 171960\n",
            "Data columns (total 2 columns):\n",
            " #   Column  Non-Null Count   Dtype \n",
            "---  ------  --------------   ----- \n",
            " 0   text    171961 non-null  object\n",
            " 1   label   171961 non-null  int64 \n",
            "dtypes: int64(1), object(1)\n",
            "memory usage: 2.6+ MB\n",
            "None\n",
            "                                                text  label\n",
            "0  \"Hu, Sylvia\" <Sylvia.Hu@ENRON.com> \"Acevedo, F...      0\n",
            "1  \"Webb, Jay\" <Jay.Webb@ENRON.com> \"Lambie, Chri...      0\n",
            "2  \"Symms, Mark\" <Mark.Symms@ENRON.com> \"Thomas, ...      0\n",
            "3  \"Thorne, Judy\" <Judy.Thorne@ENRON.com> \"Grass,...      0\n",
            "4  \"Williams, Jason R (Credit)\" <Jason.R.Williams...      0\n",
            "label\n",
            "0    91321\n",
            "1    80640\n",
            "Name: count, dtype: int64\n"
          ]
        }
      ],
      "source": [
        "print(df.info())\n",
        "\n",
        "print(df.head())\n",
        "\n",
        "print(df['label'].value_counts())"
      ]
    },
    {
      "cell_type": "markdown",
      "metadata": {
        "id": "-Jro7f-wwoDx"
      },
      "source": [
        "### 3. Train-Test Split"
      ]
    },
    {
      "cell_type": "code",
      "execution_count": 58,
      "metadata": {
        "colab": {
          "base_uri": "https://localhost:8080/"
        },
        "id": "Ejh_ThFMwq2H",
        "outputId": "842f57f1-1000-440f-e02b-4f568a1c6c0a"
      },
      "outputs": [
        {
          "name": "stdout",
          "output_type": "stream",
          "text": [
            "Training data shape: (137568, 100), Training labels shape: (137568,)\n",
            "Testing data shape: (34393, 100), Testing labels shape: (34393,)\n"
          ]
        }
      ],
      "source": [
        "# Split data into training and testing sets (you can adjust the split ratio)\n",
        "split_ratio = 0.8\n",
        "split_index = int(len(x_train) * split_ratio)\n",
        "\n",
        "x_train_data = x_train[:split_index]\n",
        "y_train_data = y[:split_index]\n",
        "x_test_data = x_train[split_index:]\n",
        "y_test_data = y[split_index:]\n",
        "\n",
        "# Display the shapes of the resulting datasets\n",
        "print(f\"Training data shape: {x_train_data.shape}, Training labels shape: {y_train_data.shape}\")\n",
        "print(f\"Testing data shape: {x_test_data.shape}, Testing labels shape: {y_test_data.shape}\")"
      ]
    },
    {
      "cell_type": "markdown",
      "metadata": {
        "id": "C_x88dtHw8GL"
      },
      "source": [
        "### 4. Model Testing: CNN"
      ]
    },
    {
      "cell_type": "code",
      "execution_count": 67,
      "metadata": {
        "id": "6OJbum_ww8lH"
      },
      "outputs": [],
      "source": [
        "# Setting up the model parameters\n",
        "word_embedding_dims = 128  # Increased dimension of word embeddings for better representation\n",
        "no_of_filters = 512  # Increased number of filters in the convolutional layer for richer feature extraction\n",
        "kernel_size = 5  # Slightly larger kernel size to capture more context in the text\n",
        "hidden_dims = 512  # Increased number of neurons in the hidden layer for enhanced capacity\n",
        "batch_size = 64  # Larger batch size to speed up training and better use of hardware resources\n",
        "epochs = 10  # Increased number of training epochs to allow the model to learn more from the data\n",
        "threshold = 0.5  # Threshold for binary classification, can be adjusted based on ROC curve analysis"
      ]
    },
    {
      "cell_type": "code",
      "execution_count": 68,
      "metadata": {
        "id": "jIv1dEjtw-fn"
      },
      "outputs": [],
      "source": [
        "# Building the model\n",
        "model = Sequential()\n",
        "\n",
        "# Adding the embedding layer to convert input sequences to dense vectors\n",
        "model.add(Embedding(maximum_features, word_embedding_dims))\n",
        "\n",
        "# Adding the 1D convolutional layer with ReLU activation\n",
        "model.add(Conv1D(no_of_filters, kernel_size, padding='valid',\n",
        "                 activation='relu', strides=1))\n",
        "\n",
        "# Adding the global max pooling layer to reduce dimensionality\n",
        "model.add(GlobalMaxPooling1D())\n",
        "\n",
        "# Adding the dense hidden layer with ReLU activation\n",
        "model.add(Dense(hidden_dims, activation='relu'))\n",
        "\n",
        "# Adding the output layer with sigmoid activation for binary classification\n",
        "model.add(Dense(1, activation='sigmoid'))"
      ]
    },
    {
      "cell_type": "code",
      "execution_count": 69,
      "metadata": {
        "colab": {
          "base_uri": "https://localhost:8080/"
        },
        "id": "I6f6wN-Rzhz7",
        "outputId": "cbdd9a33-9a54-4294-cf32-5f2a80d9d45e"
      },
      "outputs": [
        {
          "name": "stdout",
          "output_type": "stream",
          "text": [
            "Epoch 1/10\n",
            "\u001b[1m2150/2150\u001b[0m \u001b[32m━━━━━━━━━━━━━━━━━━━━\u001b[0m\u001b[37m\u001b[0m \u001b[1m20s\u001b[0m 7ms/step - accuracy: 0.9421 - loss: 0.1306 - val_accuracy: 0.9426 - val_loss: 0.3647\n",
            "Epoch 2/10\n",
            "\u001b[1m2150/2150\u001b[0m \u001b[32m━━━━━━━━━━━━━━━━━━━━\u001b[0m\u001b[37m\u001b[0m \u001b[1m15s\u001b[0m 6ms/step - accuracy: 0.9914 - loss: 0.0255 - val_accuracy: 0.9470 - val_loss: 0.5267\n",
            "Epoch 3/10\n",
            "\u001b[1m2150/2150\u001b[0m \u001b[32m━━━━━━━━━━━━━━━━━━━━\u001b[0m\u001b[37m\u001b[0m \u001b[1m21s\u001b[0m 6ms/step - accuracy: 0.9959 - loss: 0.0131 - val_accuracy: 0.9395 - val_loss: 0.4874\n",
            "Epoch 4/10\n",
            "\u001b[1m2150/2150\u001b[0m \u001b[32m━━━━━━━━━━━━━━━━━━━━\u001b[0m\u001b[37m\u001b[0m \u001b[1m20s\u001b[0m 6ms/step - accuracy: 0.9977 - loss: 0.0077 - val_accuracy: 0.9371 - val_loss: 0.6306\n",
            "Epoch 5/10\n",
            "\u001b[1m2150/2150\u001b[0m \u001b[32m━━━━━━━━━━━━━━━━━━━━\u001b[0m\u001b[37m\u001b[0m \u001b[1m12s\u001b[0m 6ms/step - accuracy: 0.9983 - loss: 0.0051 - val_accuracy: 0.9409 - val_loss: 0.8363\n",
            "Epoch 6/10\n",
            "\u001b[1m2150/2150\u001b[0m \u001b[32m━━━━━━━━━━━━━━━━━━━━\u001b[0m\u001b[37m\u001b[0m \u001b[1m20s\u001b[0m 5ms/step - accuracy: 0.9985 - loss: 0.0043 - val_accuracy: 0.9438 - val_loss: 1.0045\n",
            "Epoch 7/10\n",
            "\u001b[1m2150/2150\u001b[0m \u001b[32m━━━━━━━━━━━━━━━━━━━━\u001b[0m\u001b[37m\u001b[0m \u001b[1m12s\u001b[0m 5ms/step - accuracy: 0.9988 - loss: 0.0036 - val_accuracy: 0.9455 - val_loss: 0.6452\n",
            "Epoch 8/10\n",
            "\u001b[1m2150/2150\u001b[0m \u001b[32m━━━━━━━━━━━━━━━━━━━━\u001b[0m\u001b[37m\u001b[0m \u001b[1m20s\u001b[0m 5ms/step - accuracy: 0.9989 - loss: 0.0033 - val_accuracy: 0.9410 - val_loss: 0.8118\n",
            "Epoch 9/10\n",
            "\u001b[1m2150/2150\u001b[0m \u001b[32m━━━━━━━━━━━━━━━━━━━━\u001b[0m\u001b[37m\u001b[0m \u001b[1m21s\u001b[0m 6ms/step - accuracy: 0.9990 - loss: 0.0030 - val_accuracy: 0.9445 - val_loss: 0.9775\n",
            "Epoch 10/10\n",
            "\u001b[1m2150/2150\u001b[0m \u001b[32m━━━━━━━━━━━━━━━━━━━━\u001b[0m\u001b[37m\u001b[0m \u001b[1m21s\u001b[0m 6ms/step - accuracy: 0.9992 - loss: 0.0025 - val_accuracy: 0.9443 - val_loss: 0.7011\n",
            "\u001b[1m1075/1075\u001b[0m \u001b[32m━━━━━━━━━━━━━━━━━━━━\u001b[0m\u001b[37m\u001b[0m \u001b[1m2s\u001b[0m 1ms/step\n"
          ]
        }
      ],
      "source": [
        "# Compiling the model with binary cross-entropy loss and Adam optimizer\n",
        "model.compile(loss='binary_crossentropy',\n",
        "              optimizer='adam', metrics=['accuracy'])\n",
        "\n",
        "# Training the model\n",
        "model.fit(x_train_data, y_train_data, batch_size=batch_size,\n",
        "          epochs=epochs, validation_data=(x_test_data, y_test_data))\n",
        "\n",
        "# Predicting the probabilities for test data\n",
        "y_pred_prob = model.predict(x_test_data)\n",
        "\n",
        "# Converting the probabilities to binary classes based on threshold\n",
        "y_pred = (y_pred_prob > threshold).astype(int)"
      ]
    },
    {
      "cell_type": "code",
      "execution_count": 70,
      "metadata": {
        "colab": {
          "base_uri": "https://localhost:8080/",
          "height": 651
        },
        "id": "9qThjfIR0YgB",
        "outputId": "bbc31573-08ba-446d-9446-f242e3ddf17a"
      },
      "outputs": [
        {
          "name": "stdout",
          "output_type": "stream",
          "text": [
            "Accuracy: 0.9443491408135376\n",
            "Precision: 0.974632768361582\n",
            "Recall: 0.9217247275058773\n",
            "F1-score: 0.9474406854130053\n",
            "ROC AUC: 0.9658101820897266\n"
          ]
        },
        {
          "data": {
            "image/png": "[encoded data removed]",
            "text/plain": [
              "<Figure size 800x600 with 2 Axes>"
            ]
          },
          "metadata": {},
          "output_type": "display_data"
        }
      ],
      "source": [
        "# Calculating the evaluation metrics\n",
        "accuracy = accuracy_score(y_test_data, y_pred)\n",
        "precision = precision_score(y_test_data, y_pred)\n",
        "recall = recall_score(y_test_data, y_pred)\n",
        "f1 = f1_score(y_test_data, y_pred)\n",
        "roc_auc = roc_auc_score(y_test_data, y_pred_prob)  # Calculate ROC AUC\n",
        "\n",
        "# Printing the evaluation metrics\n",
        "print('Accuracy:', accuracy)\n",
        "print('Precision:', precision)\n",
        "print('Recall:', recall)\n",
        "print('F1-score:', f1)\n",
        "print('ROC AUC:', roc_auc)  # Print ROC AUC score\n",
        "\n",
        "# Confusion Matrix\n",
        "cm = confusion_matrix(y_test_data, y_pred)\n",
        "\n",
        "# Plotting the confusion matrix\n",
        "plt.figure(figsize=(8, 6))\n",
        "sns.heatmap(cm, annot=True, fmt='d', cmap='Blues', xticklabels=['Negative', 'Positive'], yticklabels=['Negative', 'Positive'])\n",
        "plt.xlabel('Predicted')\n",
        "plt.ylabel('True')\n",
        "plt.title('Confusion Matrix')\n",
        "plt.show()"
      ]
    }
  ],
  "metadata": {
    "accelerator": "GPU",
    "colab": {
      "gpuType": "T4",
      "provenance": []
    },
    "kernelspec": {
      "display_name": "Python 3",
      "name": "python3"
    },
    "language_info": {
      "name": "python",
      "version": "3.12.3"
    }
  },
  "nbformat": 4,
  "nbformat_minor": 0
}
